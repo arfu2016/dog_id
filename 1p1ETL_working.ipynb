{
 "cells": [
  {
   "cell_type": "markdown",
   "metadata": {},
   "source": [
    "# 1. ETL and analysis for e-commerce big data"
   ]
  },
  {
   "cell_type": "markdown",
   "metadata": {},
   "source": [
    "##### Jeff Guo; Aug 16, 2016; guojianfu@gmail.com"
   ]
  },
  {
   "cell_type": "markdown",
   "metadata": {},
   "source": [
    "## 1.1 Working on missing data"
   ]
  },
  {
   "cell_type": "markdown",
   "metadata": {},
   "source": [
    "Show sheet names of an excel:  \n",
    "pd.ExcelFile(\"dognition_data_aggregated_by_dogid.xlsx\").sheet_names  \n",
    "pd is pandas, and xlrd is used by pandas to call ExcelFile method.\n",
    "\n",
    "Produce a spreadsheet of an excel file:  \n",
    "pd.ExcelFile(\"dognition_data_aggregated_by_dogid.xlsx\").parse(\"dog_id_max_ranks\")  \n",
    "The result is a dataframe.\n",
    "pd.read_csv() is to produce a spreadsheet of a csv file.\n",
    "You can also convert a SQL table to a dataframe.\n",
    "\n",
    "Dimentionality of a dataframe:  \n",
    "pd.DataFrame(np.random.randn(10, 5)).shape  \n",
    "The result ia a tuple.\n",
    "np is numpy.\n",
    "np.random.randn(10, 5) produeces an numpy ndarray of 10 by 5, and randn is for random variable of normal distribution.\n",
    "shape is an attribution of the class DataFrame, to call this attribution may lead to the use of a method of the class.\n",
    "\n",
    "True of False:  \n",
    "pd.DataFrame(np.random.randn(10, 5)).isnull().values.any()\n",
    "\n",
    "Total number of 'True':  \n",
    "pd.DataFrame(np.random.randn(10, 5)).isnull().sum().sum()\n",
    "\n",
    "True numbers of each column:  \n",
    "pd.DataFrame(np.random.randn(10, 5)).isnull().sum()  \n",
    "The result is a Series."
   ]
  },
  {
   "cell_type": "code",
   "execution_count": 16,
   "metadata": {
    "collapsed": false
   },
   "outputs": [
    {
     "name": "stdout",
     "output_type": "stream",
     "text": [
      "[[ 2.32510002  1.04323322 -0.08558535  0.67608167 -0.99733205]\n",
      " [ 0.11134467  1.08379484 -0.59866224 -0.2426094   1.5630922 ]\n",
      " [ 0.40053478 -1.30663622  0.60147257 -0.39861409 -1.79597582]\n",
      " [ 0.817556   -0.15613353  0.23174303  0.88264242 -1.16390871]\n",
      " [ 0.26423237  0.54386753  0.54113547 -0.52518831 -2.28785166]\n",
      " [ 0.65282798  1.80203722 -0.03137171  3.06453872  0.14353298]\n",
      " [-0.11546203 -0.02899987  1.59494904  0.80553879 -1.33033695]\n",
      " [ 0.38700001  2.24713983 -1.46505765  0.1400265   0.13370004]\n",
      " [-0.88731046  0.15412521 -0.49089381  0.41766859 -0.13241052]\n",
      " [-0.90403722  0.59011542 -0.71916389  0.93169312 -0.22183902]]\n",
      "<type 'numpy.ndarray'>\n",
      "          0         1         2         3         4\n",
      "0  2.325100  1.043233 -0.085585  0.676082 -0.997332\n",
      "1  0.111345  1.083795 -0.598662 -0.242609  1.563092\n",
      "2  0.400535 -1.306636  0.601473 -0.398614 -1.795976\n",
      "3  0.817556 -0.156134  0.231743  0.882642 -1.163909\n",
      "4  0.264232  0.543868  0.541135 -0.525188 -2.287852\n",
      "5  0.652828  1.802037 -0.031372  3.064539  0.143533\n",
      "6 -0.115462 -0.029000  1.594949  0.805539 -1.330337\n",
      "7  0.387000  2.247140 -1.465058  0.140026  0.133700\n",
      "8 -0.887310  0.154125 -0.490894  0.417669 -0.132411\n",
      "9 -0.904037  0.590115 -0.719164  0.931693 -0.221839\n",
      "<class 'pandas.core.frame.DataFrame'>\n",
      "          0         1         2         3         4\n",
      "0  2.325100  1.043233 -0.085585  0.676082 -0.997332\n",
      "1  0.111345  1.083795 -0.598662 -0.242609  1.563092\n",
      "2  0.400535 -1.306636  0.601473 -0.398614 -1.795976\n",
      "3  0.817556 -0.156134  0.231743  0.882642 -1.163909\n",
      "4  0.264232  0.543868  0.541135 -0.525188 -2.287852\n",
      "0    float64\n",
      "1    float64\n",
      "2    float64\n",
      "3    float64\n",
      "4    float64\n",
      "dtype: object\n",
      "int64\n",
      "float64\n",
      "   one  two\n",
      "0  1.0  4.0\n",
      "1  2.0  3.0\n",
      "2  3.0  2.0\n",
      "3  4.0  1.0\n",
      "   one  two\n",
      "a  1.0  4.0\n",
      "b  2.0  3.0\n",
      "c  3.0  2.0\n",
      "d  4.0  1.0\n",
      "<class 'pandas.indexes.base.Index'>\n",
      "Index([u'a', u'b', u'c', u'd'], dtype='object')\n",
      "Index([u'a', u'b', u'c', u'd', u'e'], dtype='object')\n",
      "[[False False False False False]\n",
      " [False False False False False]\n",
      " [False False False False False]\n",
      " [False False False False False]\n",
      " [False False False False False]\n",
      " [False False False False False]\n",
      " [False False False False False]\n",
      " [False False False False False]\n",
      " [False False False False False]\n",
      " [False False False False False]]\n",
      "<type 'float'>\n",
      "<type 'NoneType'>\n",
      "0    False\n",
      "1    False\n",
      "2    False\n",
      "3     True\n",
      "4    False\n",
      "5    False\n",
      "6     True\n",
      "dtype: bool\n",
      "3   NaN\n",
      "6   NaN\n",
      "dtype: float64\n"
     ]
    }
   ],
   "source": [
    "import numpy as np\n",
    "import pandas as pd\n",
    "\n",
    "a=np.random.randn(10, 5)\n",
    "print a\n",
    "print type(a)\n",
    "b=pd.DataFrame(a)\n",
    "print b\n",
    "print type(b)\n",
    "print b.head()\n",
    "print b.dtypes\n",
    "print b.columns.dtype\n",
    "# np.int64\n",
    "print b[0].dtype\n",
    "# np.float64\n",
    "c={'one':[1.,2.,3.,4.],\\\n",
    "   'two':[4.,3.,2.,1.]} # this line continuation backslash is optional\n",
    "d=pd.DataFrame(c)\n",
    "print d\n",
    "e=pd.DataFrame(c, index=['a', 'b', 'c', 'd'])\n",
    "print e\n",
    "print type(e.index)\n",
    "print e.index\n",
    "f=pd.DataFrame(a, columns=['a', 'b', 'c', 'd', 'e'])\n",
    "print f.columns\n",
    "print pd.DataFrame(np.random.randn(10, 5)).isnull().values\n",
    "s = pd.Series([1, 2, 3, np.NaN, 5, 6, None])\n",
    "# np.NaN, None\n",
    "print type(np.NaN)\n",
    "print type(None)\n",
    "print s.isnull()\n",
    "print s[s.isnull()]"
   ]
  },
  {
   "cell_type": "code",
   "execution_count": 17,
   "metadata": {
    "collapsed": false
   },
   "outputs": [
    {
     "name": "stdout",
     "output_type": "stream",
     "text": [
      "(17986, 30)\n",
      "\n",
      "True\n",
      "\n",
      "30500\n",
      "\n",
      "Dog ID                                                0\n",
      "Total Tests Completed                                 0\n",
      "Mean ITI (days)                                    1268\n",
      "Mean ITI (minutes)                                 1268\n",
      "Median ITI (days)                                  1268\n",
      "Median ITI (minutes)                               1268\n",
      "Time diff between first and last game (days)          0\n",
      "Time diff between first and last game (minutes)       0\n",
      "User ID                                               1\n",
      "Gender                                                1\n",
      "Birthday                                              1\n",
      "Breed                                                16\n",
      "Breed_Type                                            1\n",
      "Breed_Group                                           1\n",
      "Weight                                                1\n",
      "Dog_Fixed                                             1\n",
      "DNA_Tested                                            1\n",
      "Dimension                                             1\n",
      "Sign_in_Count                                         1\n",
      "Max_Dogs                                              1\n",
      "Membership_ID                                         1\n",
      "Subscribed                                            1\n",
      "City                                               6368\n",
      "State                                              6363\n",
      "Zip                                                6396\n",
      "Country                                            6268\n",
      "Exclude                                               1\n",
      "Free_Start_User                                       1\n",
      "Last_Active_At                                        1\n",
      "Membership_Type                                       1\n",
      "dtype: int64\n"
     ]
    }
   ],
   "source": [
    "import pandas as pd\n",
    "xl = pd.ExcelFile(\"dognition_data_aggregated_by_dogid.xlsx\")\n",
    "# xlrd is used by pandas\n",
    "xl.sheet_names\n",
    "df = xl.parse(\"dog_id_max_ranks\")\n",
    "# df.head()\n",
    "\n",
    "print df.shape\n",
    "print\n",
    "print df.isnull().values.any()\n",
    "print\n",
    "print df.isnull().sum().sum()\n",
    "print\n",
    "print df.isnull().sum()"
   ]
  },
  {
   "cell_type": "markdown",
   "metadata": {},
   "source": [
    "Produce the dataframe:  \n",
    "df=pd.ExcelFile(\"dognition_data_aggregated_by_dogid.xlsx\").parse(\"dog_id_max_ranks\")\n",
    "\n",
    "True numbers of each row, too many rows:  \n",
    "np.sum(df.isnull().values, axis = 1)\n",
    "\n",
    "The range of Ture numbers for the rows:  \n",
    "[min(np.sum(df.isnull().values, axis = 1)), max(np.sum(df.isnull().values, axis = 1))]\n",
    "\n",
    "From a numpy ndarray to a list:  \n",
    "num = np.sum(df.isnull().values, axis = 1).tolist()\n",
    "\n",
    "Get unique values of the list and sort the list:  \n",
    "l1 = list(set(num))\n",
    "l1.sort()\n",
    "\n",
    "list comprehension and put the results in a dict:  \n",
    "fre = {i:num.count(i) for i in l1}  \n",
    "count() is a method in the list class\n",
    "\n",
    "Row counts for 'Number of NaNs', construct a dataframe from a dict:  \n",
    "pd.DataFrame(fre.items(), columns=['Number of NaNs', 'Count'])  \n",
    "Row index is row numbers."
   ]
  },
  {
   "cell_type": "code",
   "execution_count": 18,
   "metadata": {
    "collapsed": false
   },
   "outputs": [
    {
     "name": "stdout",
     "output_type": "stream",
     "text": [
      "[0, 22]\n",
      "\n",
      "   Number of NaNs  Count\n",
      "0               0  11145\n",
      "1               1     46\n",
      "2               2     19\n",
      "3               3     89\n",
      "4               4   5832\n",
      "5               5      8\n",
      "6               7      9\n",
      "7               8    837\n",
      "8              22      1\n"
     ]
    }
   ],
   "source": [
    "import numpy as np\n",
    "\n",
    "# np.ptp(np.sum(df.isnull().values, axis = 1), axis=0)\n",
    "print [min(np.sum(df.isnull().values, axis = 1)), max(np.sum(df.isnull().values, axis = 1))]\n",
    "print\n",
    "\n",
    "num = np.sum(df.isnull().values, axis = 1).tolist()\n",
    "\n",
    "l1 = list(set(num))\n",
    "l1.sort()\n",
    "\n",
    "fre = {i:num.count(i) for i in l1}\n",
    "# print fre\n",
    "# print\n",
    "\n",
    "dt = pd.DataFrame(fre.items(), columns=['Number of NaNs', 'Count'])\n",
    "# or list(fre.items()) in python 3\n",
    "\n",
    "print dt"
   ]
  },
  {
   "cell_type": "markdown",
   "metadata": {},
   "source": [
    "We can draw and save tables to pictures in python.  \n",
    "missingData.ipynb has the code to draw pictures.\n",
    "\n",
    "We can also save json data and then apply the data to a html template with python to produce table in a webpage."
   ]
  },
  {
   "cell_type": "code",
   "execution_count": 41,
   "metadata": {
    "collapsed": false
   },
   "outputs": [
    {
     "name": "stdout",
     "output_type": "stream",
     "text": [
      "[(1, 4), (2, 5), (3, 6)]\n",
      "<type 'list'>\n",
      "<type 'tuple'>\n",
      "True\n",
      "<class 'pandas.core.series.Series'>\n",
      "None\n",
      "[[0, 11145], [1, 46], [2, 19], [3, 89], [4, 5832], [5, 8], [7, 9], [8, 837], [22, 1]]\n",
      "{0: 11145, 1: 46, 2: 19, 3: 89, 4: 5832, 5: 8, 7: 9, 8: 837, 22: 1}\n"
     ]
    }
   ],
   "source": [
    "import numpy as np\n",
    "\n",
    "x = [1, 2, 3]\n",
    "y = [4, 5, 6]\n",
    "zipped = zip(x, y)\n",
    "print zipped\n",
    "print type(zipped)\n",
    "x2, y2 = zip(*zip(x, y))\n",
    "# There are two ways to use *, one way is to use it as function parameter, and another way is\n",
    "# to use it as function argument. It's the same to **, the differences are * is for list, while\n",
    "# ** is for dict.\n",
    "# If you have a list of arguments, *args, it's called \"argument unpacking\", \n",
    "# in the same manner **kwargs is called \"keyword argument unpacking\".\n",
    "print type(x2)\n",
    "print x == list(x2) and y == list(y2)\n",
    "s=df.isnull().sum()\n",
    "print type(s)\n",
    "print s.name\n",
    "print np.array(dt).tolist()\n",
    "# np array and np ndarray\n",
    "data_rows=np.array(dt).tolist()\n",
    "dict_rows={x:y for x,y in data_rows}\n",
    "print dict_rows"
   ]
  },
  {
   "cell_type": "code",
   "execution_count": 42,
   "metadata": {
    "collapsed": false
   },
   "outputs": [
    {
     "name": "stdout",
     "output_type": "stream",
     "text": [
      "{u'Membership_Type': 1, u'City': 6368, u'Subscribed': 1, u'Breed_Type': 1, u'Breed': 16, u'Membership_ID': 1, u'Last_Active_At': 1, u'State': 6363, u'Sign_in_Count': 1, u'Zip': 6396, u'Mean ITI (days)': 1268, u'User ID': 1, u'Country': 6268, u'Max_Dogs': 1, u'Median ITI (minutes)': 1268, u'Total Tests Completed': 0, u'Mean ITI (minutes)': 1268, u'Dog ID': 0, u'Gender': 1, u'DNA_Tested': 1, u'Dog_Fixed': 1, u'Exclude': 1, u'Breed_Group': 1, u'Dimension': 1, u'Free_Start_User': 1, u'Median ITI (days)': 1268, u'Weight': 1, u'Time diff between first and last game (minutes)': 0, u'Time diff between first and last game (days)': 0, u'Birthday': 1}\n"
     ]
    }
   ],
   "source": [
    "import json\n",
    "\n",
    "s=df.isnull().sum()\n",
    "s.tolist()\n",
    "s.index.tolist()\n",
    "data_columns=dict(zip(s.index.tolist(),s.tolist()))\n",
    "print data_columns\n",
    "# in python 2, there are strings and unicodes (utf-8).\n",
    "with open('data_columns.json','w') as nnFile:\n",
    "    json.dump(data_columns, nnFile)\n",
    "# command+[\n",
    "data_rows=np.array(dt).tolist()\n",
    "with open('data_rows.json','w') as nnFile:\n",
    "    json.dump(data_rows, nnFile)"
   ]
  }
 ],
 "metadata": {
  "kernelspec": {
   "display_name": "Python 2",
   "language": "python",
   "name": "python2"
  },
  "language_info": {
   "codemirror_mode": {
    "name": "ipython",
    "version": 2
   },
   "file_extension": ".py",
   "mimetype": "text/x-python",
   "name": "python",
   "nbconvert_exporter": "python",
   "pygments_lexer": "ipython2",
   "version": "2.7.5"
  }
 },
 "nbformat": 4,
 "nbformat_minor": 0
}
