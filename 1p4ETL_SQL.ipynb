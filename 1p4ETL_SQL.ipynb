{
 "cells": [
  {
   "cell_type": "markdown",
   "metadata": {},
   "source": [
    "# 1. ETL and analysis for e-commerce big data\n",
    "\n",
    "##### Jeff Guo; Sept 1, 2016; guojianfu@gmail.com\n",
    "\n",
    "## 1.4 SQL query and multiple hypothesis test for single factor analysis"
   ]
  },
  {
   "cell_type": "markdown",
   "metadata": {},
   "source": [
    "In 1960s, relational databases emerge. Nowadays we call relation a table. Before relational databases, we just stored data in a file and didn't have database layer (indexes and operations) for the data. To search for an item, we had to go through the whole column of the table, and the time complexity of the search is O(n). If the data size is small, this is acceptable, and actually we do this in python pandas dataframe and in R dataframe. If the data size is large, we should put the data in a relational database. When we do this, indexes for each column will be established. For primary key, hash indexes (indices) are used. For search, hash indexing is really fast, close to O(1). For other keys, binary search trees (b-tree) are used. For search, b-tree indexing like binary search through a sorted array (list), with time complexity of O(log2(n)). For create, update and delete, binary search tree is much faster than a sorted array.\n",
    "\n",
    "When you use SQL to deal with data, the data structure (format) has to be very neat and beautiful. Python, on the other hand, could deal with unstructured rough data. Python plus SQL is very powerful. Python cleans up the data, and SQL is a great way to store and retrive data."
   ]
  }
 ],
 "metadata": {
  "kernelspec": {
   "display_name": "Python 2",
   "language": "python",
   "name": "python2"
  },
  "language_info": {
   "codemirror_mode": {
    "name": "ipython",
    "version": 2
   },
   "file_extension": ".py",
   "mimetype": "text/x-python",
   "name": "python",
   "nbconvert_exporter": "python",
   "pygments_lexer": "ipython2",
   "version": "2.7.5"
  }
 },
 "nbformat": 4,
 "nbformat_minor": 0
}
