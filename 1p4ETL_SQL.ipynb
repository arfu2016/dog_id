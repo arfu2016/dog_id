{
 "cells": [
  {
   "cell_type": "markdown",
   "metadata": {},
   "source": [
    "# 1. ETL and analysis for e-commerce big data\n",
    "\n",
    "##### Jeff Guo; Sept 1, 2016; guojianfu@gmail.com\n",
    "\n",
    "## 1.4 SQL query and multiple hypothesis test for single factor analysis"
   ]
  },
  {
   "cell_type": "markdown",
   "metadata": {},
   "source": [
    "In 1960s, relational databases emerge. Nowadays we call relation a table. Before relational databases, we just stored data in a file and didn't have database layer (indexes and operations) for the data. To search for an item, we had to go through the whole column of the table, and the time complexity of the search is O(n). If the data size is small, this is acceptable, and actually we do this in python pandas dataframe and in R dataframe. If the data size is large, we should put the data in a relational database. When we do this, indexes for each column will be established. For primary key, hash indexes (indices) are used. For search, hash indexing is really fast, close to O(1). For other keys, binary search trees (b-tree) are used. For search, b-tree indexing like binary search through a sorted array (list), with time complexity of O(log2(n)). For create, update and delete, binary search tree is much faster than a sorted array.\n",
    "\n",
    "When you use SQL to deal with data, the data structure (format) has to be very neat and beautiful. Python, on the other hand, could deal with unstructured rough data. Python plus SQL is very powerful. Python cleans up the data, and SQL is a great way to store and retrive data."
   ]
  },
  {
   "cell_type": "markdown",
   "metadata": {},
   "source": [
    "Clean the raw data, use python to put it in a database, use SQL to retrieve data and python to analyze data, and data visualization in the end.\n",
    "\n",
    "Postgresql has more functions than Mysql, and it is a competitor of Oracle database. Sqlite is built into python.\n",
    "\n",
    "### Single table CRUD\n",
    "\n",
    "Create, read or retrieve, update and delete.\n",
    "\n",
    "```\n",
    "cd /usr/local/mysql\n",
    "sudo /usr/local/mysql/support-files/mysql.server start\n",
    "sudo /usr/local/mysql/support-files/mysql.server status\n",
    "mysql\n",
    "mysql> USE mysql\n",
    "mysql> SELECT User, Host, HEX(authentication_string) FROM mysql.user;\n",
    "mysql> CREATE DATABASE menagerie;\n",
    "mysql> USE menagerie\n",
    "mysql> \\q\n",
    "mysqlshow menagerie\n",
    "mysql> CREATE USER 'new_user'@'localhost' IDENTIFIED BY 'new_password';\n",
    "mysql> GRANT ALL ON menagerie.* TO 'new_user'@'localhost';\n",
    "mysql> FLUSH PRIVILEGES;\n",
    "```"
   ]
  },
  {
   "cell_type": "markdown",
   "metadata": {},
   "source": [
    "Python is powerful and flexible. SQL is powerful but not flexible.\n",
    "\n",
    "SQL create:\n",
    "\n",
    "    CREATE TABLE Users(\n",
    "        name VARCHAR(128)\n",
    "        email VARCHAR(128)\n",
    "    )\n",
    "    # the case doesn't matter for CREATE TABLE, or INSERT INTO\n",
    "    # the string length is up to 128 characters\n",
    "    # This is a database table contract\n",
    "    \n",
    "SQL insert:\n",
    "\n",
    "    INSERT INTO Users(name,email) Values('Fred','fred@umich.edu')\n",
    "    # the case matters for the specific data such as 'Fred' and 'fred@umich.edu'\n",
    "    # if there are syntax colors, it would be helpful\n",
    "    \n",
    "SQL delete, delete a row in a table based on a selection criteria:\n",
    "\n",
    "    DELETE FROM Users WHERE email='fred@umich.edu'\n",
    "    \n",
    "SQL update, the updating of a field with a where clause:\n",
    "\n",
    "    UPDATE Uers SET name='Charles' WHERE email='csev@umich.edu'\n",
    "    # where clause reduces the rows\n",
    "    \n",
    "SQL retrieve and read, select, the select statement retrieves a group of records:    \n",
    "\n",
    "    SELECT * FROM Users\n",
    "    # star means all the columns\n",
    "    # all rows and all columns\n",
    "    \n",
    "    SELECT * FROM Users WHERE email='csev@umich.edu'\n",
    "    # all columns but not all rows\n",
    "    # it might be more than 1 row\n",
    "    \n",
    "You can add an ORDER BY clause to SELECT statements to get the results sorted in ascending or desending order.\n",
    "\n",
    "    SELECT * FROM Users ORDER BY email\n",
    "    # sorting is one thing that database does reaaly well, in-order traversal of a binary search tree\n",
    "    # a fast, smart spreadsheet"
   ]
  },
  {
   "cell_type": "markdown",
   "metadata": {},
   "source": [
    "If what you are doing matters, then data are going to scale. You tend not to do small things professinally. You tend to do large things.\n",
    "\n",
    "Usually we don't fill in the id column and assign it autoincrement (auto-generated). In Sqlalchemy, we use the python classes to tell a table which table its foreign key should link to. We can also write our own python code to finish this. If we don't want some columns to have repeated values, we should add a Unique keyword to the schema.\n",
    "\n",
    "What database does it to reduce the number of data that has to be stored and scanned to get to a particular piece of information. \n",
    "\n",
    "1 byte is 8 bits, therefore it can represent 0 to 2^8-1=255. An int number uses 32 bits (4 bytes) or 64 bits, which can be processed once directly by the CPU. In Ascii, a charater uses 1 byte, and a string might use 128 characters.\n",
    "\n",
    "One unicode encoding which is called utf-32, uses 4 bytes for one charater. UTF-8 is a variable-length encoding system for Unicode. That is, different characters take up a different number of bytes, one to four bytes.\n",
    "\n",
    "### The join operation\n",
    "\n",
    "The JOIN operation links across several tables as part of a select operation.\n",
    "\n",
    "You must tell the JOIN how to use the keys that make the connection between the tables using an ON clause.\n",
    "\n",
    "    select Album.title, Artist.name from Album join Artist on Album.artist_id = Artist.id\n",
    "    # on is the same as where here\n",
    "    \n",
    "    select Track.title, Artist.name, Album.title, Genre.name from Track join Genre join Album join Artist on Track.genre_id = Genre.id and Track.album_id = Album.id and Track.artist_id = Artist.id"
   ]
  }
 ],
 "metadata": {
  "kernelspec": {
   "display_name": "Python 2",
   "language": "python",
   "name": "python2"
  },
  "language_info": {
   "codemirror_mode": {
    "name": "ipython",
    "version": 2
   },
   "file_extension": ".py",
   "mimetype": "text/x-python",
   "name": "python",
   "nbconvert_exporter": "python",
   "pygments_lexer": "ipython2",
   "version": "2.7.5"
  }
 },
 "nbformat": 4,
 "nbformat_minor": 0
}
