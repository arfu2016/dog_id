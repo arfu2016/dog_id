{
 "cells": [
  {
   "cell_type": "code",
   "execution_count": 30,
   "metadata": {
    "collapsed": false
   },
   "outputs": [
    {
     "name": "stdout",
     "output_type": "stream",
     "text": [
      "(17986, 30)\n",
      "\n",
      "True\n",
      "\n",
      "30500\n",
      "\n",
      "Dog ID                                                0\n",
      "Total Tests Completed                                 0\n",
      "Mean ITI (days)                                    1268\n",
      "Mean ITI (minutes)                                 1268\n",
      "Median ITI (days)                                  1268\n",
      "Median ITI (minutes)                               1268\n",
      "Time diff between first and last game (days)          0\n",
      "Time diff between first and last game (minutes)       0\n",
      "User ID                                               1\n",
      "Gender                                                1\n",
      "Birthday                                              1\n",
      "Breed                                                16\n",
      "Breed_Type                                            1\n",
      "Breed_Group                                           1\n",
      "Weight                                                1\n",
      "Dog_Fixed                                             1\n",
      "DNA_Tested                                            1\n",
      "Dimension                                             1\n",
      "Sign_in_Count                                         1\n",
      "Max_Dogs                                              1\n",
      "Membership_ID                                         1\n",
      "Subscribed                                            1\n",
      "City                                               6368\n",
      "State                                              6363\n",
      "Zip                                                6396\n",
      "Country                                            6268\n",
      "Exclude                                               1\n",
      "Free_Start_User                                       1\n",
      "Last_Active_At                                        1\n",
      "Membership_Type                                       1\n",
      "dtype: int64\n"
     ]
    }
   ],
   "source": [
    "import pandas as pd\n",
    "xl = pd.ExcelFile(\"dognition_data_aggregated_by_dogid.xlsx\")\n",
    "# xlrd is used by pandas\n",
    "xl.sheet_names\n",
    "df = xl.parse(\"dog_id_max_ranks\")\n",
    "# df.head()\n",
    "\n",
    "print df.shape\n",
    "print\n",
    "print df.isnull().values.any()\n",
    "print\n",
    "print df.isnull().sum().sum()\n",
    "print\n",
    "print df.isnull().sum()"
   ]
  },
  {
   "cell_type": "code",
   "execution_count": 31,
   "metadata": {
    "collapsed": false
   },
   "outputs": [
    {
     "name": "stdout",
     "output_type": "stream",
     "text": [
      "[0, 22]\n",
      "\n",
      "   Number of NaNs  Count\n",
      "0               0  11145\n",
      "1               1     46\n",
      "2               2     19\n",
      "3               3     89\n",
      "4               4   5832\n",
      "5               5      8\n",
      "6               7      9\n",
      "7               8    837\n",
      "8              22      1\n"
     ]
    }
   ],
   "source": [
    "import numpy as np\n",
    "\n",
    "# np.ptp(np.sum(df.isnull().values, axis = 1), axis=0)\n",
    "print [min(np.sum(df.isnull().values, axis = 1)), max(np.sum(df.isnull().values, axis = 1))]\n",
    "print\n",
    "\n",
    "num = np.sum(df.isnull().values, axis = 1).tolist()\n",
    "\n",
    "l1 = list(set(num))\n",
    "l1.sort()\n",
    "\n",
    "fre = {i:num.count(i) for i in l1}\n",
    "# print fre\n",
    "# print\n",
    "\n",
    "dt = pd.DataFrame(fre.items(), columns=['Number of NaNs', 'Count'])\n",
    "# or list(fre.items()) in python 3\n",
    "\n",
    "print dt"
   ]
  },
  {
   "cell_type": "code",
   "execution_count": 32,
   "metadata": {
    "collapsed": false
   },
   "outputs": [
    {
     "data": {
      "image/png": "[encoded data removed]",
      "text/plain": [
       "<matplotlib.figure.Figure at 0x10a0ca3d0>"
      ]
     },
     "metadata": {},
     "output_type": "display_data"
    }
   ],
   "source": [
    "%matplotlib inline\n",
    "\n",
    "import matplotlib.pyplot as plt\n",
    "\n",
    "s = df.isnull().sum()\n",
    "s.index.name = 'Columns'\n",
    "# print s.reset_index()\n",
    "clust_data = s.reset_index().values\n",
    "# print type(clust_data)\n",
    "colLable= ['Columns','Number of NaNs']\n",
    "nrows, ncols = len(clust_data)+1, len(colLable)\n",
    "# print nrows\n",
    "# print ncols\n",
    "hcell, wcell = 0.21, 4\n",
    "hpad, wpad = 0, 0    \n",
    "fig=plt.figure(figsize=(ncols*wcell+wpad, nrows*hcell+hpad))\n",
    "ax = fig.add_subplot(111)\n",
    "ax.axis('off')\n",
    "#do the table\n",
    "the_table = ax.table(cellText=clust_data,\n",
    "          colLabels=colLable,\n",
    "          cellLoc = 'center', rowLoc = 'center', loc='center')\n",
    "plt.savefig(\"column_table.png\")\n",
    "plt.show()"
   ]
  },
  {
   "cell_type": "code",
   "execution_count": 33,
   "metadata": {
    "collapsed": false
   },
   "outputs": [
    {
     "data": {
      "image/png": "[encoded data removed]",
      "text/plain": [
       "<matplotlib.figure.Figure at 0x10b365d50>"
      ]
     },
     "metadata": {},
     "output_type": "display_data"
    }
   ],
   "source": [
    "clust_data = dt.values\n",
    "# print type(dt.values)\n",
    "# print dt.shape\n",
    "# print dt.columns\n",
    "temp = [i for i in dt.columns]\n",
    "# print temp\n",
    "colLable= temp\n",
    "nrows, ncols = len(clust_data)+1, len(colLable)\n",
    "# print nrows\n",
    "# print ncols\n",
    "hcell, wcell = 0.2, 4\n",
    "hpad, wpad = 0, 0    \n",
    "fig=plt.figure(figsize=(ncols*wcell+wpad, nrows*hcell+hpad))\n",
    "ax = fig.add_subplot(111)\n",
    "ax.axis('off')\n",
    "#do the table\n",
    "the_table = ax.table(cellText=clust_data,\n",
    "          colLabels=colLable,\n",
    "          cellLoc = 'center', rowLoc = 'center', loc='center')\n",
    "# the_table.set_zorder(10)\n",
    "# the_table.set_fontsize(15)\n",
    "# plt.show()\n",
    "\n",
    "plt.savefig(\"sample_table.png\")\n",
    "plt.show()"
   ]
  }
 ],
 "metadata": {
  "kernelspec": {
   "display_name": "Python 2",
   "language": "python",
   "name": "python2"
  },
  "language_info": {
   "codemirror_mode": {
    "name": "ipython",
    "version": 2
   },
   "file_extension": ".py",
   "mimetype": "text/x-python",
   "name": "python",
   "nbconvert_exporter": "python",
   "pygments_lexer": "ipython2",
   "version": "2.7.5"
  }
 },
 "nbformat": 4,
 "nbformat_minor": 0
}
