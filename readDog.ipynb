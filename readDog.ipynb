{
 "cells": [
  {
   "cell_type": "code",
   "execution_count": 1,
   "metadata": {
    "collapsed": false
   },
   "outputs": [
    {
     "data": {
      "text/html": [
       "<div>\n",
       "<table border=\"1\" class=\"dataframe\">\n",
       "  <thead>\n",
       "    <tr style=\"text-align: right;\">\n",
       "      <th></th>\n",
       "      <th>Dog ID</th>\n",
       "      <th>Total Tests Completed</th>\n",
       "      <th>Mean ITI (days)</th>\n",
       "      <th>Mean ITI (minutes)</th>\n",
       "      <th>Median ITI (days)</th>\n",
       "      <th>Median ITI (minutes)</th>\n",
       "      <th>Time diff between first and last game (days)</th>\n",
       "      <th>Time diff between first and last game (minutes)</th>\n",
       "      <th>User ID</th>\n",
       "      <th>Gender</th>\n",
       "      <th>...</th>\n",
       "      <th>Membership_ID</th>\n",
       "      <th>Subscribed</th>\n",
       "      <th>City</th>\n",
       "      <th>State</th>\n",
       "      <th>Zip</th>\n",
       "      <th>Country</th>\n",
       "      <th>Exclude</th>\n",
       "      <th>Free_Start_User</th>\n",
       "      <th>Last_Active_At</th>\n",
       "      <th>Membership_Type</th>\n",
       "    </tr>\n",
       "  </thead>\n",
       "  <tbody>\n",
       "    <tr>\n",
       "      <th>0</th>\n",
       "      <td>fd27b272-7144-11e5-ba71-058fbc01cf0b</td>\n",
       "      <td>21</td>\n",
       "      <td>28.201076</td>\n",
       "      <td>40609.549167</td>\n",
       "      <td>0.004687</td>\n",
       "      <td>6.750000</td>\n",
       "      <td>564.021516</td>\n",
       "      <td>812190.983333</td>\n",
       "      <td>ce134e42-7144-11e5-ba71-058fbc01cf0b</td>\n",
       "      <td>female</td>\n",
       "      <td>...</td>\n",
       "      <td>2.0</td>\n",
       "      <td>1.0</td>\n",
       "      <td>Grand Forks</td>\n",
       "      <td>ND</td>\n",
       "      <td>58201</td>\n",
       "      <td>US</td>\n",
       "      <td>0</td>\n",
       "      <td>0</td>\n",
       "      <td>2015-03-12 00:25:00</td>\n",
       "      <td>2</td>\n",
       "    </tr>\n",
       "    <tr>\n",
       "      <th>1</th>\n",
       "      <td>fd27b5ba-7144-11e5-ba71-058fbc01cf0b</td>\n",
       "      <td>20</td>\n",
       "      <td>0.413307</td>\n",
       "      <td>595.162281</td>\n",
       "      <td>0.005845</td>\n",
       "      <td>8.416667</td>\n",
       "      <td>7.852836</td>\n",
       "      <td>11308.083333</td>\n",
       "      <td>ce1353d8-7144-11e5-ba71-058fbc01cf0b</td>\n",
       "      <td>male</td>\n",
       "      <td>...</td>\n",
       "      <td>1.0</td>\n",
       "      <td>1.0</td>\n",
       "      <td>Barre</td>\n",
       "      <td>MA</td>\n",
       "      <td>01005</td>\n",
       "      <td>US</td>\n",
       "      <td>0</td>\n",
       "      <td>0</td>\n",
       "      <td>00:00:00</td>\n",
       "      <td>1</td>\n",
       "    </tr>\n",
       "    <tr>\n",
       "      <th>2</th>\n",
       "      <td>fd27b6b4-7144-11e5-ba71-058fbc01cf0b</td>\n",
       "      <td>2</td>\n",
       "      <td>0.009132</td>\n",
       "      <td>13.150000</td>\n",
       "      <td>0.009132</td>\n",
       "      <td>13.150000</td>\n",
       "      <td>0.009132</td>\n",
       "      <td>13.150000</td>\n",
       "      <td>ce135ab8-7144-11e5-ba71-058fbc01cf0b</td>\n",
       "      <td>male</td>\n",
       "      <td>...</td>\n",
       "      <td>1.0</td>\n",
       "      <td>1.0</td>\n",
       "      <td>Darien</td>\n",
       "      <td>CT</td>\n",
       "      <td>06820</td>\n",
       "      <td>US</td>\n",
       "      <td>0</td>\n",
       "      <td>0</td>\n",
       "      <td>00:00:00</td>\n",
       "      <td>1</td>\n",
       "    </tr>\n",
       "    <tr>\n",
       "      <th>3</th>\n",
       "      <td>fd27b79a-7144-11e5-ba71-058fbc01cf0b</td>\n",
       "      <td>11</td>\n",
       "      <td>56.115179</td>\n",
       "      <td>80805.858333</td>\n",
       "      <td>0.004433</td>\n",
       "      <td>6.383333</td>\n",
       "      <td>561.151794</td>\n",
       "      <td>808058.583333</td>\n",
       "      <td>ce13507c-7144-11e5-ba71-058fbc01cf0b</td>\n",
       "      <td>male</td>\n",
       "      <td>...</td>\n",
       "      <td>1.0</td>\n",
       "      <td>1.0</td>\n",
       "      <td>Winnetka</td>\n",
       "      <td>IL</td>\n",
       "      <td>60093</td>\n",
       "      <td>US</td>\n",
       "      <td>0</td>\n",
       "      <td>0</td>\n",
       "      <td>2014-09-12 19:26:00</td>\n",
       "      <td>1</td>\n",
       "    </tr>\n",
       "    <tr>\n",
       "      <th>4</th>\n",
       "      <td>fd27b86c-7144-11e5-ba71-058fbc01cf0b</td>\n",
       "      <td>31</td>\n",
       "      <td>7.734254</td>\n",
       "      <td>11137.326111</td>\n",
       "      <td>0.000399</td>\n",
       "      <td>0.575000</td>\n",
       "      <td>232.027627</td>\n",
       "      <td>334119.783333</td>\n",
       "      <td>ce135e14-7144-11e5-ba71-058fbc01cf0b</td>\n",
       "      <td>female</td>\n",
       "      <td>...</td>\n",
       "      <td>2.0</td>\n",
       "      <td>1.0</td>\n",
       "      <td>Raleigh</td>\n",
       "      <td>NC</td>\n",
       "      <td>27606</td>\n",
       "      <td>US</td>\n",
       "      <td>1</td>\n",
       "      <td>0</td>\n",
       "      <td>00:00:00</td>\n",
       "      <td>2</td>\n",
       "    </tr>\n",
       "  </tbody>\n",
       "</table>\n",
       "<p>5 rows × 30 columns</p>\n",
       "</div>"
      ],
      "text/plain": [
       "                                 Dog ID  Total Tests Completed  \\\n",
       "0  fd27b272-7144-11e5-ba71-058fbc01cf0b                     21   \n",
       "1  fd27b5ba-7144-11e5-ba71-058fbc01cf0b                     20   \n",
       "2  fd27b6b4-7144-11e5-ba71-058fbc01cf0b                      2   \n",
       "3  fd27b79a-7144-11e5-ba71-058fbc01cf0b                     11   \n",
       "4  fd27b86c-7144-11e5-ba71-058fbc01cf0b                     31   \n",
       "\n",
       "   Mean ITI (days)  Mean ITI (minutes)  Median ITI (days)  \\\n",
       "0        28.201076        40609.549167           0.004687   \n",
       "1         0.413307          595.162281           0.005845   \n",
       "2         0.009132           13.150000           0.009132   \n",
       "3        56.115179        80805.858333           0.004433   \n",
       "4         7.734254        11137.326111           0.000399   \n",
       "\n",
       "   Median ITI (minutes)  Time diff between first and last game (days)  \\\n",
       "0              6.750000                                    564.021516   \n",
       "1              8.416667                                      7.852836   \n",
       "2             13.150000                                      0.009132   \n",
       "3              6.383333                                    561.151794   \n",
       "4              0.575000                                    232.027627   \n",
       "\n",
       "   Time diff between first and last game (minutes)  \\\n",
       "0                                    812190.983333   \n",
       "1                                     11308.083333   \n",
       "2                                        13.150000   \n",
       "3                                    808058.583333   \n",
       "4                                    334119.783333   \n",
       "\n",
       "                                User ID  Gender       ...         \\\n",
       "0  ce134e42-7144-11e5-ba71-058fbc01cf0b  female       ...          \n",
       "1  ce1353d8-7144-11e5-ba71-058fbc01cf0b    male       ...          \n",
       "2  ce135ab8-7144-11e5-ba71-058fbc01cf0b    male       ...          \n",
       "3  ce13507c-7144-11e5-ba71-058fbc01cf0b    male       ...          \n",
       "4  ce135e14-7144-11e5-ba71-058fbc01cf0b  female       ...          \n",
       "\n",
       "   Membership_ID Subscribed         City State    Zip  Country  Exclude  \\\n",
       "0            2.0        1.0  Grand Forks    ND  58201       US        0   \n",
       "1            1.0        1.0        Barre    MA  01005       US        0   \n",
       "2            1.0        1.0       Darien    CT  06820       US        0   \n",
       "3            1.0        1.0     Winnetka    IL  60093       US        0   \n",
       "4            2.0        1.0      Raleigh    NC  27606       US        1   \n",
       "\n",
       "  Free_Start_User       Last_Active_At  Membership_Type  \n",
       "0               0  2015-03-12 00:25:00                2  \n",
       "1               0             00:00:00                1  \n",
       "2               0             00:00:00                1  \n",
       "3               0  2014-09-12 19:26:00                1  \n",
       "4               0             00:00:00                2  \n",
       "\n",
       "[5 rows x 30 columns]"
      ]
     },
     "execution_count": 1,
     "metadata": {},
     "output_type": "execute_result"
    }
   ],
   "source": [
    "import pandas as pd\n",
    "xl = pd.ExcelFile(\"dognition_data_aggregated_by_dogid.xlsx\")\n",
    "# xlrd is used by pandas\n",
    "xl.sheet_names\n",
    "df = xl.parse(\"dog_id_max_ranks\")\n",
    "df.head()\n"
   ]
  },
  {
   "cell_type": "code",
   "execution_count": 60,
   "metadata": {
    "collapsed": false
   },
   "outputs": [
    {
     "name": "stdout",
     "output_type": "stream",
     "text": [
      "[dtype('O'), dtype('int64'), dtype('float64'), dtype('float64'), dtype('float64'), dtype('float64'), dtype('float64'), dtype('float64'), dtype('O'), dtype('O'), dtype('float64'), dtype('O'), dtype('O'), dtype('O'), dtype('float64'), dtype('float64'), dtype('float64'), dtype('O'), dtype('float64'), dtype('float64'), dtype('float64'), dtype('float64'), dtype('O'), dtype('O'), dtype('O'), dtype('O'), dtype('O'), dtype('O'), dtype('O'), dtype('O')]\n",
      "\n",
      "object\n"
     ]
    },
    {
     "data": {
      "text/plain": [
       "[u'fd27b272-7144-11e5-ba71-058fbc01cf0b',\n",
       " u'fd27b5ba-7144-11e5-ba71-058fbc01cf0b',\n",
       " u'fd27b6b4-7144-11e5-ba71-058fbc01cf0b',\n",
       " u'fd27b79a-7144-11e5-ba71-058fbc01cf0b',\n",
       " u'fd27b86c-7144-11e5-ba71-058fbc01cf0b']"
      ]
     },
     "execution_count": 60,
     "metadata": {},
     "output_type": "execute_result"
    }
   ],
   "source": [
    "import numpy as np\n",
    "\n",
    "type(df.head())\n",
    "pd.isnull(df.head())\n",
    "pd.isnull(df.head()).columns\n",
    "pd.isnull(df.head()).columns.dtype\n",
    "pd.isnull(df.head())['Dog ID'].dtype\n",
    "# type(pd.isnull(df.head()).columns)\n",
    "type(pd.isnull(df.head()))\n",
    "# for y in pd.isnull(df.head()).columns:\n",
    "#     print pd.isnull(df.head())[y].dtype\n",
    "set([pd.isnull(df.head())[y].dtype for y in pd.isnull(df.head()).columns]) \n",
    "pd.isnull(df.head())['Dog ID'].dtype == np.float64\n",
    "pd.isnull(df.head())['Dog ID'].dtype == np.int64\n",
    "pd.isnull(df.head())['Dog ID'].dtype == np.bool\n",
    "\n",
    "# print pd.isnull(df.head())['Dog ID'].dtype\n",
    "\n",
    "# print df.head().columns\n",
    "\n",
    "print [df.head()[y].dtype for y in df.head().columns]\n",
    "print\n",
    "print df.head()['Dog ID'].dtype\n",
    "df.head()['Dog ID']\n",
    "\n",
    "[i for i in df.head()['Dog ID']]"
   ]
  },
  {
   "cell_type": "code",
   "execution_count": 76,
   "metadata": {
    "collapsed": false
   },
   "outputs": [
    {
     "name": "stdout",
     "output_type": "stream",
     "text": [
      "0    False\n",
      "1    False\n",
      "2    False\n",
      "3     True\n",
      "4    False\n",
      "5    False\n",
      "6     True\n",
      "dtype: bool\n",
      "\n",
      "3   NaN\n",
      "6   NaN\n",
      "dtype: float64\n",
      "\n"
     ]
    }
   ],
   "source": [
    "import pandas as pd\n",
    "import numpy as np\n",
    "s = pd.Series([1, 2, 3, np.NaN, 5, 6, None])\n",
    "print s.isnull()\n",
    "print\n",
    "print s[s.isnull()]\n",
    "print\n",
    "# print pd.isnull(df.head())\n"
   ]
  },
  {
   "cell_type": "code",
   "execution_count": 104,
   "metadata": {
    "collapsed": false
   },
   "outputs": [
    {
     "name": "stdout",
     "output_type": "stream",
     "text": [
      "Dog ID                                                0\n",
      "Total Tests Completed                                 0\n",
      "Mean ITI (days)                                    1268\n",
      "Mean ITI (minutes)                                 1268\n",
      "Median ITI (days)                                  1268\n",
      "Median ITI (minutes)                               1268\n",
      "Time diff between first and last game (days)          0\n",
      "Time diff between first and last game (minutes)       0\n",
      "User ID                                               1\n",
      "Gender                                                1\n",
      "Birthday                                              1\n",
      "Breed                                                16\n",
      "Breed_Type                                            1\n",
      "Breed_Group                                           1\n",
      "Weight                                                1\n",
      "Dog_Fixed                                             1\n",
      "DNA_Tested                                            1\n",
      "Dimension                                             1\n",
      "Sign_in_Count                                         1\n",
      "Max_Dogs                                              1\n",
      "Membership_ID                                         1\n",
      "Subscribed                                            1\n",
      "City                                               6368\n",
      "State                                              6363\n",
      "Zip                                                6396\n",
      "Country                                            6268\n",
      "Exclude                                               1\n",
      "Free_Start_User                                       1\n",
      "Last_Active_At                                        1\n",
      "Membership_Type                                       1\n",
      "dtype: int64\n",
      "[0 0 0 0 0]\n",
      "[0 0 0 ..., 0 4 4]\n"
     ]
    },
    {
     "data": {
      "text/plain": [
       "22"
      ]
     },
     "execution_count": 104,
     "metadata": {},
     "output_type": "execute_result"
    }
   ],
   "source": [
    "import numpy as np\n",
    "\n",
    "df.head().isnull().values\n",
    "type(df.head().isnull().values)\n",
    "df.head().isnull().values.dtype\n",
    "# df.head().dtype\n",
    "# df.head().isnull().dtype\n",
    "df.head().isnull().values.any()\n",
    "df.isnull().values.any()\n",
    "\n",
    "# %timeit df.isnull().values.any()\n",
    "\n",
    "type(df.head().isnull().any())\n",
    "\n",
    "df.head().isnull().sum()\n",
    "\n",
    "df.isnull().any()\n",
    "\n",
    "df.isnull().sum().sum()\n",
    "\n",
    "print df.isnull().sum()\n",
    "\n",
    "# barplot, histogram, boxplot\n",
    "\n",
    "print np.sum(df.head().isnull().values, axis = 1)\n",
    "\n",
    "print np.sum(df.isnull().values, axis = 1)\n",
    "\n",
    "# barplot, histogram, boxplot\n",
    "\n",
    "max(np.sum(df.isnull().values, axis = 1))\n"
   ]
  },
  {
   "cell_type": "code",
   "execution_count": 48,
   "metadata": {
    "collapsed": false
   },
   "outputs": [
    {
     "data": {
      "text/plain": [
       "Dog ID                                                0\n",
       "Total Tests Completed                                 0\n",
       "Mean ITI (days)                                    1268\n",
       "Mean ITI (minutes)                                 1268\n",
       "Median ITI (days)                                  1268\n",
       "Median ITI (minutes)                               1268\n",
       "Time diff between first and last game (days)          0\n",
       "Time diff between first and last game (minutes)       0\n",
       "User ID                                               1\n",
       "Gender                                                1\n",
       "Birthday                                              1\n",
       "Breed                                                16\n",
       "Breed_Type                                            1\n",
       "Breed_Group                                           1\n",
       "Weight                                                1\n",
       "Dog_Fixed                                             1\n",
       "DNA_Tested                                            1\n",
       "Dimension                                             1\n",
       "Sign_in_Count                                         1\n",
       "Max_Dogs                                              1\n",
       "Membership_ID                                         1\n",
       "Subscribed                                            1\n",
       "City                                               6368\n",
       "State                                              6363\n",
       "Zip                                                6396\n",
       "Country                                            6268\n",
       "Exclude                                               1\n",
       "Free_Start_User                                       1\n",
       "Last_Active_At                                        1\n",
       "Membership_Type                                       1\n",
       "dtype: int64"
      ]
     },
     "execution_count": 48,
     "metadata": {},
     "output_type": "execute_result"
    }
   ],
   "source": [
    "df.isnull().sum()"
   ]
  },
  {
   "cell_type": "code",
   "execution_count": 82,
   "metadata": {
    "collapsed": false
   },
   "outputs": [
    {
     "data": {
      "text/plain": [
       "0    1.0\n",
       "1    2.0\n",
       "2    3.0\n",
       "3    NaN\n",
       "4    5.0\n",
       "5    6.0\n",
       "6    NaN\n",
       "dtype: float64"
      ]
     },
     "execution_count": 82,
     "metadata": {},
     "output_type": "execute_result"
    }
   ],
   "source": [
    "import pandas as pd\n",
    "import numpy as np\n",
    "from sklearn.preprocessing import Imputer\n",
    "s = pd.Series([1, 2, 3, np.NaN, 5, 6, None])\n",
    "s"
   ]
  },
  {
   "cell_type": "code",
   "execution_count": 95,
   "metadata": {
    "collapsed": false
   },
   "outputs": [
    {
     "name": "stdout",
     "output_type": "stream",
     "text": [
      "0    [1.0, 2.0, 3.0, 4.0, 5.0, 6.0, 7.0]\n",
      "dtype: object\n",
      "\n",
      "0    1.0\n",
      "1    2.0\n",
      "2    3.0\n",
      "3    4.0\n",
      "4    5.0\n",
      "5    6.0\n",
      "6    7.0\n",
      "dtype: float64\n"
     ]
    },
    {
     "name": "stderr",
     "output_type": "stream",
     "text": [
      "/Users/arfu/Documents/workspace/tensorflow/lib/python2.7/site-packages/sklearn/utils/validation.py:386: DeprecationWarning: Passing 1d arrays as data is deprecated in 0.17 and willraise ValueError in 0.19. Reshape your data either using X.reshape(-1, 1) if your data has a single feature or X.reshape(1, -1) if it contains a single sample.\n",
      "  DeprecationWarning)\n",
      "/Users/arfu/Documents/workspace/tensorflow/lib/python2.7/site-packages/sklearn/utils/validation.py:386: DeprecationWarning: Passing 1d arrays as data is deprecated in 0.17 and willraise ValueError in 0.19. Reshape your data either using X.reshape(-1, 1) if your data has a single feature or X.reshape(1, -1) if it contains a single sample.\n",
      "  DeprecationWarning)\n",
      "/Users/arfu/Documents/workspace/tensorflow/lib/python2.7/site-packages/sklearn/utils/validation.py:386: DeprecationWarning: Passing 1d arrays as data is deprecated in 0.17 and willraise ValueError in 0.19. Reshape your data either using X.reshape(-1, 1) if your data has a single feature or X.reshape(1, -1) if it contains a single sample.\n",
      "  DeprecationWarning)\n"
     ]
    },
    {
     "data": {
      "text/plain": [
       "'\\nprint type(imp.transform(s)[0])\\nprint imp.transform(s).shape\\nprint imp.transform(s)[0].shape\\nprint imp.transform(s)[0].tolist()\\n# x = pd.Series(imp.transform(s)[0].tolist())\\n# x = pd.Series((i for i in imp.transform(s)[0].tolist()))\\nxx = imp.transform(s).reshape(1,-1)\\nx = pd.Series(xx)\\nprint x\\n'"
      ]
     },
     "execution_count": 95,
     "metadata": {},
     "output_type": "execute_result"
    }
   ],
   "source": [
    "imp = Imputer(missing_values='NaN', strategy='mean', axis=0)\n",
    "imp.fit([1, 2, 3, 4, 5, 6, 7])\n",
    "# imp.fit([[0, 1, 2, 3, 4, 5, 6],[1, 2, 3, 4, 5, 6, 7]])\n",
    "x = pd.Series(imp.transform(s).tolist())\n",
    "print x\n",
    "print \n",
    "x = pd.Series(imp.transform(s).tolist()[0])\n",
    "print x\n",
    "'''\n",
    "print type(imp.transform(s)[0])\n",
    "print imp.transform(s).shape\n",
    "print imp.transform(s)[0].shape\n",
    "print imp.transform(s)[0].tolist()\n",
    "# x = pd.Series(imp.transform(s)[0].tolist())\n",
    "# x = pd.Series((i for i in imp.transform(s)[0].tolist()))\n",
    "xx = imp.transform(s).reshape(1,-1)\n",
    "x = pd.Series(xx)\n",
    "print x\n",
    "'''"
   ]
  },
  {
   "cell_type": "code",
   "execution_count": 96,
   "metadata": {
    "collapsed": false
   },
   "outputs": [
    {
     "name": "stdout",
     "output_type": "stream",
     "text": [
      "0    1.0\n",
      "1    2.0\n",
      "2    3.0\n",
      "3    3.0\n",
      "4    5.0\n",
      "5    6.0\n",
      "6    3.0\n",
      "dtype: float64\n",
      "\n",
      "0    1.0\n",
      "1    2.0\n",
      "2    3.0\n",
      "4    5.0\n",
      "5    6.0\n",
      "dtype: float64\n"
     ]
    }
   ],
   "source": [
    "import pandas as pd\n",
    "import numpy as np\n",
    "s = pd.Series([1, 2, 3, np.NaN, 5, 6, None])\n",
    "print s.fillna(int(s.mean()))\n",
    "print\n",
    "print s.dropna()"
   ]
  }
 ],
 "metadata": {
  "kernelspec": {
   "display_name": "Python 2",
   "language": "python",
   "name": "python2"
  },
  "language_info": {
   "codemirror_mode": {
    "name": "ipython",
    "version": 2
   },
   "file_extension": ".py",
   "mimetype": "text/x-python",
   "name": "python",
   "nbconvert_exporter": "python",
   "pygments_lexer": "ipython2",
   "version": "2.7.5"
  }
 },
 "nbformat": 4,
 "nbformat_minor": 0
}
